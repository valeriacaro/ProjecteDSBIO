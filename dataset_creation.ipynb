{
 "cells": [
  {
   "cell_type": "code",
   "execution_count": 1,
   "metadata": {
    "id": "JHtqyJdsqML7"
   },
   "outputs": [],
   "source": [
    "import numpy as np\n",
    "import pandas as pd\n",
    "import random"
   ]
  },
  {
   "cell_type": "markdown",
   "metadata": {
    "id": "DaqGYkNkywwm"
   },
   "source": [
    "## Sex\n",
    "1 represents male; 0 represents female"
   ]
  },
  {
   "cell_type": "code",
   "execution_count": 2,
   "metadata": {
    "id": "2uXo71VFy473"
   },
   "outputs": [],
   "source": [
    "# Define el tamaño del conjunto de datos\n",
    "dataset_size = 10000\n",
    "\n",
    "# Define el porcentaje real de hombres en la población\n",
    "porcentaje_hombres_real = 0.505  # Por ejemplo, el 50.5% son hombres\n",
    "\n",
    "# Calcula el número de hombres en el conjunto de datos sintético\n",
    "num_hombres = int(dataset_size * porcentaje_hombres_real)\n",
    "\n",
    "# Crea una columna \"sexo\" con la proporción correcta\n",
    "hombres = np.ones(num_hombres)  # 1 representa \"hombre\"\n",
    "mujeres = np.zeros(dataset_size - num_hombres)  # 0 representa \"mujer\"\n",
    "\n",
    "# Combina las dos listas para obtener la columna completa de \"sexo\"\n",
    "columna_sexo = np.concatenate([hombres, mujeres])\n",
    "\n",
    "# Mezcla los valores para que no estén en orden\n",
    "np.random.shuffle(columna_sexo)\n",
    "\n",
    "# Crea un DataFrame con la columna \"sexo\" y cualquier otra información que desees agregar\n",
    "data = pd.DataFrame({'Sex': columna_sexo})\n",
    "data['Sex'] = data['Sex'].astype(int)"
   ]
  },
  {
   "cell_type": "markdown",
   "metadata": {
    "id": "SSFwzpNly6Cz"
   },
   "source": [
    "## Smoker\n",
    "1 represents smoker; 0 represents non smoker"
   ]
  },
  {
   "cell_type": "code",
   "execution_count": 3,
   "metadata": {
    "id": "6KouxWajqI_N"
   },
   "outputs": [],
   "source": [
    "# Define el porcentaje de fumadores para hombres y mujeres\n",
    "porcentaje_fumadores_hombres = 0.367\n",
    "porcentaje_fumadores_mujeres = 0.078\n",
    "\n",
    "data['Smoker'] = np.where(data['Sex'] == 1, np.random.choice([0, 1], size=dataset_size, p=[1 - porcentaje_fumadores_hombres, porcentaje_fumadores_hombres]),\n",
    "                          np.random.choice([0, 1], size=dataset_size, p=[1 - porcentaje_fumadores_mujeres, porcentaje_fumadores_mujeres]))"
   ]
  },
  {
   "cell_type": "markdown",
   "metadata": {
    "id": "1bTYqKJ7zFD6"
   },
   "source": [
    "## PCR\n",
    "1 represents PCR; 0 not"
   ]
  },
  {
   "cell_type": "code",
   "execution_count": 4,
   "metadata": {
    "colab": {
     "base_uri": "https://localhost:8080/"
    },
    "id": "i52rBzHXzEXd",
    "outputId": "e0390731-892a-4fb9-eb0b-a91614998c86"
   },
   "outputs": [
    {
     "name": "stdout",
     "output_type": "stream",
     "text": [
      "   Sex  Smoker  Result PCR mycoplasma\n",
      "0    1       0                      0\n",
      "1    0       0                      0\n",
      "2    1       0                      0\n",
      "3    0       0                      0\n",
      "4    1       1                      0\n"
     ]
    }
   ],
   "source": [
    "# Define el porcentaje de PCR para hombres y mujeres\n",
    "porcentaje_PCR_hombres = 0.024\n",
    "porcentaje_PCR_mujeres = 0.029\n",
    "\n",
    "\n",
    "data['Result PCR mycoplasma'] = np.where(data['Sex'] == 1, np.random.choice([0, 1], size=dataset_size, p=[1 - porcentaje_PCR_hombres, porcentaje_PCR_hombres]),\n",
    "                          np.random.choice([0, 1], size=dataset_size, p=[1 - porcentaje_PCR_mujeres, porcentaje_PCR_mujeres]))\n",
    "\n",
    "print(data.head())"
   ]
  },
  {
   "cell_type": "markdown",
   "metadata": {
    "id": "v936Q8H9v1Yg"
   },
   "source": [
    "## Age"
   ]
  },
  {
   "cell_type": "code",
   "execution_count": 5,
   "metadata": {
    "id": "nC_SO_tOqQs2"
   },
   "outputs": [],
   "source": [
    "# Define el tamaño del conjunto de datos\n",
    "tamaño_dataset = 10000\n",
    "\n",
    "# Set the random seed for reproducibility\n",
    "np.random.seed(42)\n",
    "\n",
    "# Mean and variance for the Gaussian distribution\n",
    "mean = 65\n",
    "variance = 15\n",
    "\n",
    "# Generate random values from a Gaussian distribution\n",
    "gaussian_values = np.random.normal(loc=mean, scale=np.sqrt(variance), size=dataset_size)\n",
    "\n",
    "# Add a positive offset to skew the distribution to the right\n",
    "offset = 5\n",
    "skewed_values = (gaussian_values + offset).astype(int)\n",
    "\n",
    "data['Age'] = skewed_values"
   ]
  },
  {
   "cell_type": "code",
   "execution_count": 6,
   "metadata": {
    "colab": {
     "base_uri": "https://localhost:8080/"
    },
    "id": "Z0lL3Er0rf1s",
    "outputId": "9fb2b9aa-703d-4082-90ac-16621bcfd573"
   },
   "outputs": [
    {
     "data": {
      "text/plain": [
       "54"
      ]
     },
     "execution_count": 6,
     "metadata": {},
     "output_type": "execute_result"
    }
   ],
   "source": [
    "np.min(skewed_values)"
   ]
  },
  {
   "cell_type": "markdown",
   "metadata": {
    "id": "L2hkFE1Mv4AB"
   },
   "source": [
    "## Mili\n",
    "1 represents the individual went to the militar service; 0 the individual did not."
   ]
  },
  {
   "cell_type": "code",
   "execution_count": 7,
   "metadata": {
    "colab": {
     "base_uri": "https://localhost:8080/"
    },
    "id": "UUihKXWFtI_j",
    "outputId": "bde3b2e5-cfde-403d-bf07-40cc2f1814c3"
   },
   "outputs": [
    {
     "name": "stdout",
     "output_type": "stream",
     "text": [
      "   Sex  Smoker  Result PCR mycoplasma  Age  Militar service\n",
      "0    1       0                      0   71                1\n",
      "1    0       0                      0   69                1\n",
      "2    1       0                      0   72                1\n",
      "3    0       0                      0   75                0\n",
      "4    1       1                      0   69                1\n"
     ]
    }
   ],
   "source": [
    "data['Militar service'] = np.where(data['Sex'] == 1, np.random.choice([1, 0], size=dataset_size, p=[0.6, 0.4]),  # sex=1\n",
    "                            np.random.choice([1, 0], size=tamaño_dataset, p=[0.4, 0.6]))  # sex=0\n",
    "\n",
    "print(data.head())"
   ]
  },
  {
   "cell_type": "markdown",
   "metadata": {
    "id": "vybWrxa_ymbz"
   },
   "source": [
    "## Genetic"
   ]
  },
  {
   "cell_type": "code",
   "execution_count": 8,
   "metadata": {
    "id": "vW8ppJrrxiqN"
   },
   "outputs": [],
   "source": [
    "porcentaje_C9orf72 = 4.1E-6\n",
    "porcentaje_SOD1 = 7.5E-7\n",
    "porcentaje_TARDBP = 2E-7\n",
    "porcentaje_FUS = 1.5E-7\n",
    "\n",
    "# Calculate the number of individuals with each genetic variant\n",
    "num_C9orf72 = int(tamaño_dataset * porcentaje_C9orf72)\n",
    "num_SOD1 = int(tamaño_dataset * porcentaje_SOD1)\n",
    "num_TARDBP = int(tamaño_dataset * porcentaje_TARDBP)\n",
    "num_FUS = int(tamaño_dataset * porcentaje_FUS)\n",
    "\n",
    "# Create lists for each genetic variant\n",
    "C9orf72 = np.ones(num_C9orf72)\n",
    "SOD1 = np.ones(num_SOD1)\n",
    "TARDBP = np.ones(num_TARDBP)\n",
    "FUS = np.ones(num_FUS)\n",
    "\n",
    "# Create lists for individuals without each genetic variant\n",
    "no_C9orf72 = np.zeros(dataset_size - num_C9orf72)\n",
    "no_SOD1 = np.zeros(dataset_size - num_SOD1)\n",
    "no_TARDBP = np.zeros(dataset_size - num_TARDBP)\n",
    "no_FUS = np.zeros(dataset_size - num_FUS)\n",
    "\n",
    "# Combine the lists to obtain columns for each genetic variant\n",
    "columna_C9orf72 = np.concatenate([C9orf72, no_C9orf72])\n",
    "columna_SOD1 = np.concatenate([SOD1, no_SOD1])\n",
    "columna_TARDBP = np.concatenate([TARDBP, no_TARDBP])\n",
    "columna_FUS = np.concatenate([FUS, no_FUS])\n",
    "\n",
    "np.random.shuffle(columna_C9orf72)\n",
    "np.random.shuffle(columna_FUS)\n",
    "np.random.shuffle(columna_TARDBP)\n",
    "np.random.shuffle(columna_SOD1)\n",
    "\n",
    "# Add columns for each gene to the 'data' DataFrame\n",
    "data['C9orf72'] = columna_C9orf72.astype(int)\n",
    "data['SOD1'] = columna_SOD1.astype(int)\n",
    "data['TARDBP'] = columna_TARDBP.astype(int)\n",
    "data['FUS'] = columna_FUS.astype(int)"
   ]
  },
  {
   "cell_type": "code",
   "execution_count": 9,
   "metadata": {
    "colab": {
     "base_uri": "https://localhost:8080/"
    },
    "id": "WnW4fzOUyon4",
    "outputId": "452d5a01-b3a5-403f-eb29-00a56291c95c"
   },
   "outputs": [
    {
     "name": "stdout",
     "output_type": "stream",
     "text": [
      "   Sex  Smoker  Result PCR mycoplasma  Age  Militar service  C9orf72  SOD1  \\\n",
      "0    1       0                      0   71                1        0     0   \n",
      "1    0       0                      0   69                1        0     0   \n",
      "2    1       0                      0   72                1        0     0   \n",
      "3    0       0                      0   75                0        0     0   \n",
      "4    1       1                      0   69                1        0     0   \n",
      "\n",
      "   TARDBP  FUS  \n",
      "0       0    0  \n",
      "1       0    0  \n",
      "2       0    0  \n",
      "3       0    0  \n",
      "4       0    0  \n"
     ]
    }
   ],
   "source": [
    "print(data.head())"
   ]
  },
  {
   "cell_type": "markdown",
   "metadata": {
    "id": "WqVaKio9z93E"
   },
   "source": [
    "## Profession"
   ]
  },
  {
   "cell_type": "code",
   "execution_count": 10,
   "metadata": {
    "id": "KrOyHz3l0KwH"
   },
   "outputs": [],
   "source": [
    "professions = ['mechanic', 'painter', 'constructor','cashier', 'doctor', 'janitor','engineer', 'accountant', 'waiter', 'teacher', 'policeman', 'fireman', 'manager', 'electrician', 'lawyer']\n",
    "professionsWithOR = ['mechanic', 'painter', 'constructor']\n",
    "\n",
    "data['Professions'] = [random.choice(professions) for _ in range(dataset_size)]\n",
    "\n",
    "data['Mechanic'] = data['Professions'].apply(lambda x: 1 if x == 'mechanic' else 0)\n",
    "data['Painter'] = data['Professions'].apply(lambda x: 1 if x == 'painter' else 0)\n",
    "data['Constructor'] = data['Professions'].apply(lambda x: 1 if x == 'constructor' else 0)"
   ]
  },
  {
   "cell_type": "markdown",
   "metadata": {
    "id": "I9_cwLOD09L2"
   },
   "source": [
    "## Ethnity"
   ]
  },
  {
   "cell_type": "code",
   "execution_count": 11,
   "metadata": {
    "id": "WYeEOGAI1Ac0"
   },
   "outputs": [],
   "source": [
    "ethnicities = ['caucasian', 'black', 'mestizo', 'indian', 'asian']\n",
    "ethnicityWithOR = ['caucasian', 'black', 'mestizo', 'indian']\n",
    "\n",
    "data['Ethnicity'] = [random.choice(ethnicities) for _ in range(dataset_size)]\n",
    "\n",
    "data['Caucasian'] = data['Ethnicity'].apply(lambda x: 1 if x == 'caucasian' else 0)\n",
    "data['Black'] = data['Ethnicity'].apply(lambda x: 1 if x == 'Black' else 0)\n",
    "data['Mestizo'] = data['Ethnicity'].apply(lambda x: 1 if x == 'mestizo' else 0)\n",
    "data['Indian'] = data['Ethnicity'].apply(lambda x: 1 if x == 'indian' else 0)"
   ]
  },
  {
   "cell_type": "code",
   "execution_count": 12,
   "metadata": {
    "colab": {
     "base_uri": "https://localhost:8080/",
     "height": 1000
    },
    "id": "C9wlejni0tL1",
    "outputId": "cd2f5c3c-d94b-4479-8f48-4bdcb23cc966"
   },
   "outputs": [
    {
     "data": {
      "text/html": [
       "<div>\n",
       "<style scoped>\n",
       "    .dataframe tbody tr th:only-of-type {\n",
       "        vertical-align: middle;\n",
       "    }\n",
       "\n",
       "    .dataframe tbody tr th {\n",
       "        vertical-align: top;\n",
       "    }\n",
       "\n",
       "    .dataframe thead th {\n",
       "        text-align: right;\n",
       "    }\n",
       "</style>\n",
       "<table border=\"1\" class=\"dataframe\">\n",
       "  <thead>\n",
       "    <tr style=\"text-align: right;\">\n",
       "      <th></th>\n",
       "      <th>Sex</th>\n",
       "      <th>Smoker</th>\n",
       "      <th>Result PCR mycoplasma</th>\n",
       "      <th>Age</th>\n",
       "      <th>Militar service</th>\n",
       "      <th>C9orf72</th>\n",
       "      <th>SOD1</th>\n",
       "      <th>TARDBP</th>\n",
       "      <th>FUS</th>\n",
       "      <th>Professions</th>\n",
       "      <th>Mechanic</th>\n",
       "      <th>Painter</th>\n",
       "      <th>Constructor</th>\n",
       "      <th>Ethnicity</th>\n",
       "      <th>Caucasian</th>\n",
       "      <th>Black</th>\n",
       "      <th>Mestizo</th>\n",
       "      <th>Indian</th>\n",
       "    </tr>\n",
       "  </thead>\n",
       "  <tbody>\n",
       "    <tr>\n",
       "      <th>0</th>\n",
       "      <td>1</td>\n",
       "      <td>0</td>\n",
       "      <td>0</td>\n",
       "      <td>71</td>\n",
       "      <td>1</td>\n",
       "      <td>0</td>\n",
       "      <td>0</td>\n",
       "      <td>0</td>\n",
       "      <td>0</td>\n",
       "      <td>manager</td>\n",
       "      <td>0</td>\n",
       "      <td>0</td>\n",
       "      <td>0</td>\n",
       "      <td>black</td>\n",
       "      <td>0</td>\n",
       "      <td>0</td>\n",
       "      <td>0</td>\n",
       "      <td>0</td>\n",
       "    </tr>\n",
       "    <tr>\n",
       "      <th>1</th>\n",
       "      <td>0</td>\n",
       "      <td>0</td>\n",
       "      <td>0</td>\n",
       "      <td>69</td>\n",
       "      <td>1</td>\n",
       "      <td>0</td>\n",
       "      <td>0</td>\n",
       "      <td>0</td>\n",
       "      <td>0</td>\n",
       "      <td>manager</td>\n",
       "      <td>0</td>\n",
       "      <td>0</td>\n",
       "      <td>0</td>\n",
       "      <td>asian</td>\n",
       "      <td>0</td>\n",
       "      <td>0</td>\n",
       "      <td>0</td>\n",
       "      <td>0</td>\n",
       "    </tr>\n",
       "    <tr>\n",
       "      <th>2</th>\n",
       "      <td>1</td>\n",
       "      <td>0</td>\n",
       "      <td>0</td>\n",
       "      <td>72</td>\n",
       "      <td>1</td>\n",
       "      <td>0</td>\n",
       "      <td>0</td>\n",
       "      <td>0</td>\n",
       "      <td>0</td>\n",
       "      <td>fireman</td>\n",
       "      <td>0</td>\n",
       "      <td>0</td>\n",
       "      <td>0</td>\n",
       "      <td>asian</td>\n",
       "      <td>0</td>\n",
       "      <td>0</td>\n",
       "      <td>0</td>\n",
       "      <td>0</td>\n",
       "    </tr>\n",
       "    <tr>\n",
       "      <th>3</th>\n",
       "      <td>0</td>\n",
       "      <td>0</td>\n",
       "      <td>0</td>\n",
       "      <td>75</td>\n",
       "      <td>0</td>\n",
       "      <td>0</td>\n",
       "      <td>0</td>\n",
       "      <td>0</td>\n",
       "      <td>0</td>\n",
       "      <td>policeman</td>\n",
       "      <td>0</td>\n",
       "      <td>0</td>\n",
       "      <td>0</td>\n",
       "      <td>mestizo</td>\n",
       "      <td>0</td>\n",
       "      <td>0</td>\n",
       "      <td>1</td>\n",
       "      <td>0</td>\n",
       "    </tr>\n",
       "    <tr>\n",
       "      <th>4</th>\n",
       "      <td>1</td>\n",
       "      <td>1</td>\n",
       "      <td>0</td>\n",
       "      <td>69</td>\n",
       "      <td>1</td>\n",
       "      <td>0</td>\n",
       "      <td>0</td>\n",
       "      <td>0</td>\n",
       "      <td>0</td>\n",
       "      <td>waiter</td>\n",
       "      <td>0</td>\n",
       "      <td>0</td>\n",
       "      <td>0</td>\n",
       "      <td>mestizo</td>\n",
       "      <td>0</td>\n",
       "      <td>0</td>\n",
       "      <td>1</td>\n",
       "      <td>0</td>\n",
       "    </tr>\n",
       "  </tbody>\n",
       "</table>\n",
       "</div>"
      ],
      "text/plain": [
       "   Sex  Smoker  Result PCR mycoplasma  Age  Militar service  C9orf72  SOD1  \\\n",
       "0    1       0                      0   71                1        0     0   \n",
       "1    0       0                      0   69                1        0     0   \n",
       "2    1       0                      0   72                1        0     0   \n",
       "3    0       0                      0   75                0        0     0   \n",
       "4    1       1                      0   69                1        0     0   \n",
       "\n",
       "   TARDBP  FUS Professions  Mechanic  Painter  Constructor Ethnicity  \\\n",
       "0       0    0     manager         0        0            0     black   \n",
       "1       0    0     manager         0        0            0     asian   \n",
       "2       0    0     fireman         0        0            0     asian   \n",
       "3       0    0   policeman         0        0            0   mestizo   \n",
       "4       0    0      waiter         0        0            0   mestizo   \n",
       "\n",
       "   Caucasian  Black  Mestizo  Indian  \n",
       "0          0      0        0       0  \n",
       "1          0      0        0       0  \n",
       "2          0      0        0       0  \n",
       "3          0      0        1       0  \n",
       "4          0      0        1       0  "
      ]
     },
     "execution_count": 12,
     "metadata": {},
     "output_type": "execute_result"
    }
   ],
   "source": [
    "data.head()"
   ]
  },
  {
   "cell_type": "markdown",
   "metadata": {
    "id": "xzRulWgr0t5x"
   },
   "source": [
    "## Probability"
   ]
  },
  {
   "cell_type": "code",
   "execution_count": 27,
   "metadata": {},
   "outputs": [],
   "source": [
    "import math\n",
    "from sklearn.preprocessing import MinMaxScaler\n",
    "scaler = MinMaxScaler()\n",
    "data['Age standarized'] = scaler.fit_transform(data[['Age']])\n",
    "data['Probability'] = 0.138895 * data['Sex'] + 0.0198026 * data['Age standarized'] + 0.22314 * data['Smoker'] + 0.83724 * data['Militar service'] + 2.10010 * data['Result PCR mycoplasma'] + 0.7178398 * data['Mechanic'] + 0.86288995 * data['Painter'] + 0.77473 * data['Constructor'] + 1.071584 * data['Caucasian'] - 3.21887 * data['Black'] - 2.9957 * data['Mestizo'] - 3.91202 * data['Indian'] + 1.28 * data['C9orf72'] + 2.036012 * data['SOD1'] + 1.652497 * data['TARDBP'] + 1.86097 * data['FUS']"
   ]
  },
  {
   "cell_type": "code",
   "execution_count": 28,
   "metadata": {},
   "outputs": [],
   "source": [
    "data['Probability'] = data['Probability'].apply(lambda x: math.exp(x))"
   ]
  },
  {
   "cell_type": "code",
   "execution_count": 29,
   "metadata": {},
   "outputs": [
    {
     "data": {
      "text/html": [
       "<div>\n",
       "<style scoped>\n",
       "    .dataframe tbody tr th:only-of-type {\n",
       "        vertical-align: middle;\n",
       "    }\n",
       "\n",
       "    .dataframe tbody tr th {\n",
       "        vertical-align: top;\n",
       "    }\n",
       "\n",
       "    .dataframe thead th {\n",
       "        text-align: right;\n",
       "    }\n",
       "</style>\n",
       "<table border=\"1\" class=\"dataframe\">\n",
       "  <thead>\n",
       "    <tr style=\"text-align: right;\">\n",
       "      <th></th>\n",
       "      <th>Sex</th>\n",
       "      <th>Smoker</th>\n",
       "      <th>Result PCR mycoplasma</th>\n",
       "      <th>Age</th>\n",
       "      <th>Militar service</th>\n",
       "      <th>C9orf72</th>\n",
       "      <th>SOD1</th>\n",
       "      <th>TARDBP</th>\n",
       "      <th>FUS</th>\n",
       "      <th>Professions</th>\n",
       "      <th>Mechanic</th>\n",
       "      <th>Painter</th>\n",
       "      <th>Constructor</th>\n",
       "      <th>Ethnicity</th>\n",
       "      <th>Caucasian</th>\n",
       "      <th>Black</th>\n",
       "      <th>Mestizo</th>\n",
       "      <th>Indian</th>\n",
       "      <th>Probability</th>\n",
       "      <th>Age standarized</th>\n",
       "    </tr>\n",
       "  </thead>\n",
       "  <tbody>\n",
       "    <tr>\n",
       "      <th>0</th>\n",
       "      <td>1</td>\n",
       "      <td>0</td>\n",
       "      <td>0</td>\n",
       "      <td>71</td>\n",
       "      <td>1</td>\n",
       "      <td>0</td>\n",
       "      <td>0</td>\n",
       "      <td>0</td>\n",
       "      <td>0</td>\n",
       "      <td>manager</td>\n",
       "      <td>0</td>\n",
       "      <td>0</td>\n",
       "      <td>0</td>\n",
       "      <td>black</td>\n",
       "      <td>0</td>\n",
       "      <td>0</td>\n",
       "      <td>0</td>\n",
       "      <td>0</td>\n",
       "      <td>2.683158</td>\n",
       "      <td>0.548387</td>\n",
       "    </tr>\n",
       "    <tr>\n",
       "      <th>1</th>\n",
       "      <td>0</td>\n",
       "      <td>0</td>\n",
       "      <td>0</td>\n",
       "      <td>69</td>\n",
       "      <td>1</td>\n",
       "      <td>0</td>\n",
       "      <td>0</td>\n",
       "      <td>0</td>\n",
       "      <td>0</td>\n",
       "      <td>manager</td>\n",
       "      <td>0</td>\n",
       "      <td>0</td>\n",
       "      <td>0</td>\n",
       "      <td>asian</td>\n",
       "      <td>0</td>\n",
       "      <td>0</td>\n",
       "      <td>0</td>\n",
       "      <td>0</td>\n",
       "      <td>2.332223</td>\n",
       "      <td>0.483871</td>\n",
       "    </tr>\n",
       "    <tr>\n",
       "      <th>2</th>\n",
       "      <td>1</td>\n",
       "      <td>0</td>\n",
       "      <td>0</td>\n",
       "      <td>72</td>\n",
       "      <td>1</td>\n",
       "      <td>0</td>\n",
       "      <td>0</td>\n",
       "      <td>0</td>\n",
       "      <td>0</td>\n",
       "      <td>fireman</td>\n",
       "      <td>0</td>\n",
       "      <td>0</td>\n",
       "      <td>0</td>\n",
       "      <td>asian</td>\n",
       "      <td>0</td>\n",
       "      <td>0</td>\n",
       "      <td>0</td>\n",
       "      <td>0</td>\n",
       "      <td>2.684873</td>\n",
       "      <td>0.580645</td>\n",
       "    </tr>\n",
       "    <tr>\n",
       "      <th>3</th>\n",
       "      <td>0</td>\n",
       "      <td>0</td>\n",
       "      <td>0</td>\n",
       "      <td>75</td>\n",
       "      <td>0</td>\n",
       "      <td>0</td>\n",
       "      <td>0</td>\n",
       "      <td>0</td>\n",
       "      <td>0</td>\n",
       "      <td>policeman</td>\n",
       "      <td>0</td>\n",
       "      <td>0</td>\n",
       "      <td>0</td>\n",
       "      <td>mestizo</td>\n",
       "      <td>0</td>\n",
       "      <td>0</td>\n",
       "      <td>1</td>\n",
       "      <td>0</td>\n",
       "      <td>0.050677</td>\n",
       "      <td>0.677419</td>\n",
       "    </tr>\n",
       "    <tr>\n",
       "      <th>4</th>\n",
       "      <td>1</td>\n",
       "      <td>1</td>\n",
       "      <td>0</td>\n",
       "      <td>69</td>\n",
       "      <td>1</td>\n",
       "      <td>0</td>\n",
       "      <td>0</td>\n",
       "      <td>0</td>\n",
       "      <td>0</td>\n",
       "      <td>waiter</td>\n",
       "      <td>0</td>\n",
       "      <td>0</td>\n",
       "      <td>0</td>\n",
       "      <td>mestizo</td>\n",
       "      <td>0</td>\n",
       "      <td>0</td>\n",
       "      <td>1</td>\n",
       "      <td>0</td>\n",
       "      <td>0.167488</td>\n",
       "      <td>0.483871</td>\n",
       "    </tr>\n",
       "  </tbody>\n",
       "</table>\n",
       "</div>"
      ],
      "text/plain": [
       "   Sex  Smoker  Result PCR mycoplasma  Age  Militar service  C9orf72  SOD1  \\\n",
       "0    1       0                      0   71                1        0     0   \n",
       "1    0       0                      0   69                1        0     0   \n",
       "2    1       0                      0   72                1        0     0   \n",
       "3    0       0                      0   75                0        0     0   \n",
       "4    1       1                      0   69                1        0     0   \n",
       "\n",
       "   TARDBP  FUS Professions  Mechanic  Painter  Constructor Ethnicity  \\\n",
       "0       0    0     manager         0        0            0     black   \n",
       "1       0    0     manager         0        0            0     asian   \n",
       "2       0    0     fireman         0        0            0     asian   \n",
       "3       0    0   policeman         0        0            0   mestizo   \n",
       "4       0    0      waiter         0        0            0   mestizo   \n",
       "\n",
       "   Caucasian  Black  Mestizo  Indian  Probability  Age standarized  \n",
       "0          0      0        0       0     2.683158         0.548387  \n",
       "1          0      0        0       0     2.332223         0.483871  \n",
       "2          0      0        0       0     2.684873         0.580645  \n",
       "3          0      0        1       0     0.050677         0.677419  \n",
       "4          0      0        1       0     0.167488         0.483871  "
      ]
     },
     "execution_count": 29,
     "metadata": {},
     "output_type": "execute_result"
    }
   ],
   "source": [
    "data.head()"
   ]
  },
  {
   "cell_type": "code",
   "execution_count": 30,
   "metadata": {},
   "outputs": [],
   "source": [
    "data['Probability'] = data['Probability'].apply(lambda x: (x/(1+x)))"
   ]
  },
  {
   "cell_type": "code",
   "execution_count": 31,
   "metadata": {},
   "outputs": [
    {
     "data": {
      "text/html": [
       "<div>\n",
       "<style scoped>\n",
       "    .dataframe tbody tr th:only-of-type {\n",
       "        vertical-align: middle;\n",
       "    }\n",
       "\n",
       "    .dataframe tbody tr th {\n",
       "        vertical-align: top;\n",
       "    }\n",
       "\n",
       "    .dataframe thead th {\n",
       "        text-align: right;\n",
       "    }\n",
       "</style>\n",
       "<table border=\"1\" class=\"dataframe\">\n",
       "  <thead>\n",
       "    <tr style=\"text-align: right;\">\n",
       "      <th></th>\n",
       "      <th>Sex</th>\n",
       "      <th>Smoker</th>\n",
       "      <th>Result PCR mycoplasma</th>\n",
       "      <th>Age</th>\n",
       "      <th>Militar service</th>\n",
       "      <th>C9orf72</th>\n",
       "      <th>SOD1</th>\n",
       "      <th>TARDBP</th>\n",
       "      <th>FUS</th>\n",
       "      <th>Professions</th>\n",
       "      <th>Mechanic</th>\n",
       "      <th>Painter</th>\n",
       "      <th>Constructor</th>\n",
       "      <th>Ethnicity</th>\n",
       "      <th>Caucasian</th>\n",
       "      <th>Black</th>\n",
       "      <th>Mestizo</th>\n",
       "      <th>Indian</th>\n",
       "      <th>Probability</th>\n",
       "      <th>Age standarized</th>\n",
       "    </tr>\n",
       "  </thead>\n",
       "  <tbody>\n",
       "    <tr>\n",
       "      <th>0</th>\n",
       "      <td>1</td>\n",
       "      <td>0</td>\n",
       "      <td>0</td>\n",
       "      <td>71</td>\n",
       "      <td>1</td>\n",
       "      <td>0</td>\n",
       "      <td>0</td>\n",
       "      <td>0</td>\n",
       "      <td>0</td>\n",
       "      <td>manager</td>\n",
       "      <td>0</td>\n",
       "      <td>0</td>\n",
       "      <td>0</td>\n",
       "      <td>black</td>\n",
       "      <td>0</td>\n",
       "      <td>0</td>\n",
       "      <td>0</td>\n",
       "      <td>0</td>\n",
       "      <td>0.728494</td>\n",
       "      <td>0.548387</td>\n",
       "    </tr>\n",
       "    <tr>\n",
       "      <th>1</th>\n",
       "      <td>0</td>\n",
       "      <td>0</td>\n",
       "      <td>0</td>\n",
       "      <td>69</td>\n",
       "      <td>1</td>\n",
       "      <td>0</td>\n",
       "      <td>0</td>\n",
       "      <td>0</td>\n",
       "      <td>0</td>\n",
       "      <td>manager</td>\n",
       "      <td>0</td>\n",
       "      <td>0</td>\n",
       "      <td>0</td>\n",
       "      <td>asian</td>\n",
       "      <td>0</td>\n",
       "      <td>0</td>\n",
       "      <td>0</td>\n",
       "      <td>0</td>\n",
       "      <td>0.699900</td>\n",
       "      <td>0.483871</td>\n",
       "    </tr>\n",
       "    <tr>\n",
       "      <th>2</th>\n",
       "      <td>1</td>\n",
       "      <td>0</td>\n",
       "      <td>0</td>\n",
       "      <td>72</td>\n",
       "      <td>1</td>\n",
       "      <td>0</td>\n",
       "      <td>0</td>\n",
       "      <td>0</td>\n",
       "      <td>0</td>\n",
       "      <td>fireman</td>\n",
       "      <td>0</td>\n",
       "      <td>0</td>\n",
       "      <td>0</td>\n",
       "      <td>asian</td>\n",
       "      <td>0</td>\n",
       "      <td>0</td>\n",
       "      <td>0</td>\n",
       "      <td>0</td>\n",
       "      <td>0.728620</td>\n",
       "      <td>0.580645</td>\n",
       "    </tr>\n",
       "    <tr>\n",
       "      <th>3</th>\n",
       "      <td>0</td>\n",
       "      <td>0</td>\n",
       "      <td>0</td>\n",
       "      <td>75</td>\n",
       "      <td>0</td>\n",
       "      <td>0</td>\n",
       "      <td>0</td>\n",
       "      <td>0</td>\n",
       "      <td>0</td>\n",
       "      <td>policeman</td>\n",
       "      <td>0</td>\n",
       "      <td>0</td>\n",
       "      <td>0</td>\n",
       "      <td>mestizo</td>\n",
       "      <td>0</td>\n",
       "      <td>0</td>\n",
       "      <td>1</td>\n",
       "      <td>0</td>\n",
       "      <td>0.048233</td>\n",
       "      <td>0.677419</td>\n",
       "    </tr>\n",
       "    <tr>\n",
       "      <th>4</th>\n",
       "      <td>1</td>\n",
       "      <td>1</td>\n",
       "      <td>0</td>\n",
       "      <td>69</td>\n",
       "      <td>1</td>\n",
       "      <td>0</td>\n",
       "      <td>0</td>\n",
       "      <td>0</td>\n",
       "      <td>0</td>\n",
       "      <td>waiter</td>\n",
       "      <td>0</td>\n",
       "      <td>0</td>\n",
       "      <td>0</td>\n",
       "      <td>mestizo</td>\n",
       "      <td>0</td>\n",
       "      <td>0</td>\n",
       "      <td>1</td>\n",
       "      <td>0</td>\n",
       "      <td>0.143460</td>\n",
       "      <td>0.483871</td>\n",
       "    </tr>\n",
       "  </tbody>\n",
       "</table>\n",
       "</div>"
      ],
      "text/plain": [
       "   Sex  Smoker  Result PCR mycoplasma  Age  Militar service  C9orf72  SOD1  \\\n",
       "0    1       0                      0   71                1        0     0   \n",
       "1    0       0                      0   69                1        0     0   \n",
       "2    1       0                      0   72                1        0     0   \n",
       "3    0       0                      0   75                0        0     0   \n",
       "4    1       1                      0   69                1        0     0   \n",
       "\n",
       "   TARDBP  FUS Professions  Mechanic  Painter  Constructor Ethnicity  \\\n",
       "0       0    0     manager         0        0            0     black   \n",
       "1       0    0     manager         0        0            0     asian   \n",
       "2       0    0     fireman         0        0            0     asian   \n",
       "3       0    0   policeman         0        0            0   mestizo   \n",
       "4       0    0      waiter         0        0            0   mestizo   \n",
       "\n",
       "   Caucasian  Black  Mestizo  Indian  Probability  Age standarized  \n",
       "0          0      0        0       0     0.728494         0.548387  \n",
       "1          0      0        0       0     0.699900         0.483871  \n",
       "2          0      0        0       0     0.728620         0.580645  \n",
       "3          0      0        1       0     0.048233         0.677419  \n",
       "4          0      0        1       0     0.143460         0.483871  "
      ]
     },
     "execution_count": 31,
     "metadata": {},
     "output_type": "execute_result"
    }
   ],
   "source": [
    "data.head()"
   ]
  },
  {
   "cell_type": "code",
   "execution_count": 35,
   "metadata": {
    "scrolled": true
   },
   "outputs": [
    {
     "data": {
      "image/png": "[encoded data removed]",
      "text/plain": [
       "<Figure size 640x480 with 1 Axes>"
      ]
     },
     "metadata": {},
     "output_type": "display_data"
    }
   ],
   "source": [
    "import matplotlib.pyplot as plt\n",
    "plt.hist(data['Probability'], bins='auto', alpha=0.7, rwidth=0.85)\n",
    "plt.title('Histogram Probability')\n",
    "plt.xlabel('Values')\n",
    "plt.ylabel('Frequency')\n",
    "plt.grid(axis='y', alpha=0.75)\n",
    "plt.show()"
   ]
  },
  {
   "cell_type": "code",
   "execution_count": 38,
   "metadata": {},
   "outputs": [],
   "source": [
    "prevalence = (data['Probability'] > 0.6).sum() / len(data)"
   ]
  },
  {
   "cell_type": "code",
   "execution_count": 39,
   "metadata": {},
   "outputs": [
    {
     "name": "stdout",
     "output_type": "stream",
     "text": [
      "0.4543\n"
     ]
    }
   ],
   "source": [
    "print(prevalence)"
   ]
  },
  {
   "cell_type": "code",
   "execution_count": 42,
   "metadata": {},
   "outputs": [
    {
     "data": {
      "text/html": [
       "<div>\n",
       "<style scoped>\n",
       "    .dataframe tbody tr th:only-of-type {\n",
       "        vertical-align: middle;\n",
       "    }\n",
       "\n",
       "    .dataframe tbody tr th {\n",
       "        vertical-align: top;\n",
       "    }\n",
       "\n",
       "    .dataframe thead th {\n",
       "        text-align: right;\n",
       "    }\n",
       "</style>\n",
       "<table border=\"1\" class=\"dataframe\">\n",
       "  <thead>\n",
       "    <tr style=\"text-align: right;\">\n",
       "      <th></th>\n",
       "      <th>Sex</th>\n",
       "      <th>Smoker</th>\n",
       "      <th>Result PCR mycoplasma</th>\n",
       "      <th>Age</th>\n",
       "      <th>Militar service</th>\n",
       "      <th>C9orf72</th>\n",
       "      <th>SOD1</th>\n",
       "      <th>TARDBP</th>\n",
       "      <th>FUS</th>\n",
       "      <th>Professions</th>\n",
       "      <th>Ethnicity</th>\n",
       "      <th>Probability</th>\n",
       "    </tr>\n",
       "  </thead>\n",
       "  <tbody>\n",
       "    <tr>\n",
       "      <th>0</th>\n",
       "      <td>1</td>\n",
       "      <td>0</td>\n",
       "      <td>0</td>\n",
       "      <td>71</td>\n",
       "      <td>1</td>\n",
       "      <td>0</td>\n",
       "      <td>0</td>\n",
       "      <td>0</td>\n",
       "      <td>0</td>\n",
       "      <td>manager</td>\n",
       "      <td>black</td>\n",
       "      <td>0.728494</td>\n",
       "    </tr>\n",
       "    <tr>\n",
       "      <th>1</th>\n",
       "      <td>0</td>\n",
       "      <td>0</td>\n",
       "      <td>0</td>\n",
       "      <td>69</td>\n",
       "      <td>1</td>\n",
       "      <td>0</td>\n",
       "      <td>0</td>\n",
       "      <td>0</td>\n",
       "      <td>0</td>\n",
       "      <td>manager</td>\n",
       "      <td>asian</td>\n",
       "      <td>0.699900</td>\n",
       "    </tr>\n",
       "    <tr>\n",
       "      <th>2</th>\n",
       "      <td>1</td>\n",
       "      <td>0</td>\n",
       "      <td>0</td>\n",
       "      <td>72</td>\n",
       "      <td>1</td>\n",
       "      <td>0</td>\n",
       "      <td>0</td>\n",
       "      <td>0</td>\n",
       "      <td>0</td>\n",
       "      <td>fireman</td>\n",
       "      <td>asian</td>\n",
       "      <td>0.728620</td>\n",
       "    </tr>\n",
       "    <tr>\n",
       "      <th>3</th>\n",
       "      <td>0</td>\n",
       "      <td>0</td>\n",
       "      <td>0</td>\n",
       "      <td>75</td>\n",
       "      <td>0</td>\n",
       "      <td>0</td>\n",
       "      <td>0</td>\n",
       "      <td>0</td>\n",
       "      <td>0</td>\n",
       "      <td>policeman</td>\n",
       "      <td>mestizo</td>\n",
       "      <td>0.048233</td>\n",
       "    </tr>\n",
       "    <tr>\n",
       "      <th>4</th>\n",
       "      <td>1</td>\n",
       "      <td>1</td>\n",
       "      <td>0</td>\n",
       "      <td>69</td>\n",
       "      <td>1</td>\n",
       "      <td>0</td>\n",
       "      <td>0</td>\n",
       "      <td>0</td>\n",
       "      <td>0</td>\n",
       "      <td>waiter</td>\n",
       "      <td>mestizo</td>\n",
       "      <td>0.143460</td>\n",
       "    </tr>\n",
       "    <tr>\n",
       "      <th>...</th>\n",
       "      <td>...</td>\n",
       "      <td>...</td>\n",
       "      <td>...</td>\n",
       "      <td>...</td>\n",
       "      <td>...</td>\n",
       "      <td>...</td>\n",
       "      <td>...</td>\n",
       "      <td>...</td>\n",
       "      <td>...</td>\n",
       "      <td>...</td>\n",
       "      <td>...</td>\n",
       "      <td>...</td>\n",
       "    </tr>\n",
       "    <tr>\n",
       "      <th>9995</th>\n",
       "      <td>0</td>\n",
       "      <td>0</td>\n",
       "      <td>0</td>\n",
       "      <td>75</td>\n",
       "      <td>1</td>\n",
       "      <td>0</td>\n",
       "      <td>0</td>\n",
       "      <td>0</td>\n",
       "      <td>0</td>\n",
       "      <td>fireman</td>\n",
       "      <td>caucasian</td>\n",
       "      <td>0.872388</td>\n",
       "    </tr>\n",
       "    <tr>\n",
       "      <th>9996</th>\n",
       "      <td>0</td>\n",
       "      <td>0</td>\n",
       "      <td>0</td>\n",
       "      <td>62</td>\n",
       "      <td>0</td>\n",
       "      <td>0</td>\n",
       "      <td>0</td>\n",
       "      <td>0</td>\n",
       "      <td>0</td>\n",
       "      <td>cashier</td>\n",
       "      <td>black</td>\n",
       "      <td>0.501278</td>\n",
       "    </tr>\n",
       "    <tr>\n",
       "      <th>9997</th>\n",
       "      <td>1</td>\n",
       "      <td>0</td>\n",
       "      <td>0</td>\n",
       "      <td>67</td>\n",
       "      <td>1</td>\n",
       "      <td>0</td>\n",
       "      <td>0</td>\n",
       "      <td>0</td>\n",
       "      <td>0</td>\n",
       "      <td>mechanic</td>\n",
       "      <td>caucasian</td>\n",
       "      <td>0.941247</td>\n",
       "    </tr>\n",
       "    <tr>\n",
       "      <th>9998</th>\n",
       "      <td>0</td>\n",
       "      <td>0</td>\n",
       "      <td>0</td>\n",
       "      <td>71</td>\n",
       "      <td>0</td>\n",
       "      <td>0</td>\n",
       "      <td>0</td>\n",
       "      <td>0</td>\n",
       "      <td>0</td>\n",
       "      <td>fireman</td>\n",
       "      <td>caucasian</td>\n",
       "      <td>0.746956</td>\n",
       "    </tr>\n",
       "    <tr>\n",
       "      <th>9999</th>\n",
       "      <td>0</td>\n",
       "      <td>0</td>\n",
       "      <td>0</td>\n",
       "      <td>72</td>\n",
       "      <td>0</td>\n",
       "      <td>0</td>\n",
       "      <td>0</td>\n",
       "      <td>0</td>\n",
       "      <td>0</td>\n",
       "      <td>electrician</td>\n",
       "      <td>black</td>\n",
       "      <td>0.502875</td>\n",
       "    </tr>\n",
       "  </tbody>\n",
       "</table>\n",
       "<p>10000 rows × 12 columns</p>\n",
       "</div>"
      ],
      "text/plain": [
       "      Sex  Smoker  Result PCR mycoplasma  Age  Militar service  C9orf72  SOD1  \\\n",
       "0       1       0                      0   71                1        0     0   \n",
       "1       0       0                      0   69                1        0     0   \n",
       "2       1       0                      0   72                1        0     0   \n",
       "3       0       0                      0   75                0        0     0   \n",
       "4       1       1                      0   69                1        0     0   \n",
       "...   ...     ...                    ...  ...              ...      ...   ...   \n",
       "9995    0       0                      0   75                1        0     0   \n",
       "9996    0       0                      0   62                0        0     0   \n",
       "9997    1       0                      0   67                1        0     0   \n",
       "9998    0       0                      0   71                0        0     0   \n",
       "9999    0       0                      0   72                0        0     0   \n",
       "\n",
       "      TARDBP  FUS  Professions  Ethnicity  Probability  \n",
       "0          0    0      manager      black     0.728494  \n",
       "1          0    0      manager      asian     0.699900  \n",
       "2          0    0      fireman      asian     0.728620  \n",
       "3          0    0    policeman    mestizo     0.048233  \n",
       "4          0    0       waiter    mestizo     0.143460  \n",
       "...      ...  ...          ...        ...          ...  \n",
       "9995       0    0      fireman  caucasian     0.872388  \n",
       "9996       0    0      cashier      black     0.501278  \n",
       "9997       0    0     mechanic  caucasian     0.941247  \n",
       "9998       0    0      fireman  caucasian     0.746956  \n",
       "9999       0    0  electrician      black     0.502875  \n",
       "\n",
       "[10000 rows x 12 columns]"
      ]
     },
     "execution_count": 42,
     "metadata": {},
     "output_type": "execute_result"
    }
   ],
   "source": [
    "data.drop(['Age standarized', 'Mechanic', 'Painter', 'Constructor', 'Caucasian', 'Black', 'Mestizo', 'Indian'], axis=1)"
   ]
  },
  {
   "cell_type": "code",
   "execution_count": null,
   "metadata": {},
   "outputs": [],
   "source": []
  }
 ],
 "metadata": {
  "colab": {
   "provenance": []
  },
  "kernelspec": {
   "display_name": "Python 3 (ipykernel)",
   "language": "python",
   "name": "python3"
  },
  "language_info": {
   "codemirror_mode": {
    "name": "ipython",
    "version": 3
   },
   "file_extension": ".py",
   "mimetype": "text/x-python",
   "name": "python",
   "nbconvert_exporter": "python",
   "pygments_lexer": "ipython3",
   "version": "3.11.4"
  }
 },
 "nbformat": 4,
 "nbformat_minor": 1
}
